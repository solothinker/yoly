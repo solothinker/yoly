{
 "cells": [
  {
   "cell_type": "code",
   "execution_count": 1,
   "id": "bc79b3ec",
   "metadata": {},
   "outputs": [],
   "source": [
    "import cv2 as cv\n",
    "import numpy as np"
   ]
  },
  {
   "cell_type": "code",
   "execution_count": 2,
   "id": "aecb787c",
   "metadata": {},
   "outputs": [],
   "source": [
    "width=320\n",
    "confidenceLvl = 0.7\n",
    "nms_threshold = 0.3"
   ]
  },
  {
   "cell_type": "code",
   "execution_count": 3,
   "id": "ce26a833",
   "metadata": {},
   "outputs": [],
   "source": [
    "with open('cocolabels.txt','rt') as f:\n",
    "    classNames = f.read()\n",
    "    f.close()\n",
    "classNames = classNames.split('\\n')\n",
    "cfgFile = 'yolov3.cfg'#network architecture\n",
    "netWeight = 'yolov3.weights' # weight of network\n",
    "yoloNet = cv.dnn.readNetFromDarknet(cfgFile,netWeight)\n",
    "yoloNet.setPreferableBackend(cv.dnn.DNN_BACKEND_OPENCV)\n",
    "yoloNet.setPreferableTarget(cv.dnn.DNN_TARGET_CPU)"
   ]
  },
  {
   "cell_type": "code",
   "execution_count": 4,
   "id": "db2c6690",
   "metadata": {},
   "outputs": [],
   "source": [
    "def findObj(outputs,img):\n",
    "    hT,wT,cT = img.shape\n",
    "    bndingB = []\n",
    "    classIds =[]\n",
    "    confs = []\n",
    "    \n",
    "    for output in outputs:\n",
    "        for det in output:\n",
    "            scores = det[5:]\n",
    "            classId = np.argmax(scores)\n",
    "            confidence = scores[classId]\n",
    "            \n",
    "            if confidence > confidenceLvl:\n",
    "                w,h = int(det[2]*wT),int(det[3]*hT)\n",
    "                x,y = int(det[0]*wT-w/2),int(det[1]*hT-h/2)\n",
    "                bndingB.append([x,y,w,h])\n",
    "                classIds.append(classId)\n",
    "                confs.append(float(confidence))\n",
    "    indices = cv.dnn.NMSBoxes(bndingB,confs,confidenceLvl,nms_threshold=nms_threshold)\n",
    "    \n",
    "    for i in indices:\n",
    "        i = i[0]\n",
    "        box = bndingB[i]\n",
    "        x,y,w,h=box[0],box[1],box[2],box[3]\n",
    "        cv.rectangle(img,(x,y),(x+w,y+h),(255,0,255),2)\n",
    "        cv.putText(img,f'{classNames[classIds[i]].upper()}{int(confs[i]*100)}%',(x,y-10),\n",
    "                   cv.FONT_HERSHEY_SIMPLEX,0.6,(255,0,255),2)\n",
    "    "
   ]
  },
  {
   "cell_type": "code",
   "execution_count": 5,
   "id": "17d9d86c",
   "metadata": {},
   "outputs": [],
   "source": [
    "cap = cv.VideoCapture(0)\n",
    "while True:\n",
    "    _,img = cap.read()\n",
    "    img = cv.flip(img,1)\n",
    "    blob = cv.dnn.blobFromImage(img,1/255,(width,width),[0,0,0],1,crop=False)\n",
    "    yoloNet.setInput(blob)\n",
    "    \n",
    "    layerNames = yoloNet.getLayerNames()\n",
    "    outLayerName = yoloNet.getUnconnectedOutLayersNames()\n",
    "    \n",
    "    outputs = yoloNet.forward(outLayerName)\n",
    "    findObj(outputs,img)\n",
    "    cv.imshow('image',img)\n",
    "    if cv.waitKey(1) & 0xff == ord('q'):\n",
    "        break\n",
    "cap.release()\n",
    "cv.destroyAllWindows()"
   ]
  },
  {
   "cell_type": "code",
   "execution_count": null,
   "id": "36abcd28",
   "metadata": {},
   "outputs": [],
   "source": []
  }
 ],
 "metadata": {
  "kernelspec": {
   "display_name": "Python 3",
   "language": "python",
   "name": "python3"
  },
  "language_info": {
   "codemirror_mode": {
    "name": "ipython",
    "version": 3
   },
   "file_extension": ".py",
   "mimetype": "text/x-python",
   "name": "python",
   "nbconvert_exporter": "python",
   "pygments_lexer": "ipython3",
   "version": "3.8.8"
  }
 },
 "nbformat": 4,
 "nbformat_minor": 5
}
